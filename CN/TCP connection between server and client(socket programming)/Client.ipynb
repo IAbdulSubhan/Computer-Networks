{
 "cells": [
  {
   "cell_type": "code",
   "execution_count": 1,
   "metadata": {},
   "outputs": [],
   "source": [
    "import socket"
   ]
  },
  {
   "cell_type": "code",
   "execution_count": 3,
   "metadata": {},
   "outputs": [
    {
     "name": "stdout",
     "output_type": "stream",
     "text": [
      "Enter string: l\n",
      "Server: L\n"
     ]
    }
   ],
   "source": [
    "if __name__ == \"__main__\":\n",
    "    ip = socket.gethostname()\n",
    "    port = 1122\n",
    "    server = socket.socket(socket.AF_INET, socket. SOCK_STREAM)\n",
    "    server.connect((ip, port))\n",
    "    string = input(\"Enter string: \")\n",
    "    server.send(bytes(string, \"utf-8\" ))\n",
    "    buffer = server.recv(1024)\n",
    "    buffer = buffer.decode(\"utf-8\")\n",
    "    print(f\"Server: {buffer}\")"
   ]
  },
  {
   "cell_type": "code",
   "execution_count": null,
   "metadata": {},
   "outputs": [],
   "source": []
  }
 ],
 "metadata": {
  "kernelspec": {
   "display_name": "Python 3",
   "language": "python",
   "name": "python3"
  },
  "language_info": {
   "codemirror_mode": {
    "name": "ipython",
    "version": 3
   },
   "file_extension": ".py",
   "mimetype": "text/x-python",
   "name": "python",
   "nbconvert_exporter": "python",
   "pygments_lexer": "ipython3",
   "version": "3.7.3"
  }
 },
 "nbformat": 4,
 "nbformat_minor": 2
}
