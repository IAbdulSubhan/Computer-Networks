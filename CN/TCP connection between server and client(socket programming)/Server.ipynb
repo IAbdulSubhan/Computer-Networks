{
 "cells": [
  {
   "cell_type": "code",
   "execution_count": 1,
   "metadata": {},
   "outputs": [],
   "source": [
    "import socket"
   ]
  },
  {
   "cell_type": "code",
   "execution_count": null,
   "metadata": {
    "scrolled": true
   },
   "outputs": [
    {
     "name": "stdout",
     "output_type": "stream",
     "text": [
      "Connection Estabished 127.0.0.1:53074\n"
     ]
    }
   ],
   "source": [
    "if __name__ == \"__main__\":\n",
    "    ip = socket.gethostname()\n",
    "    port = 1122\n",
    "    \n",
    "    server = socket.socket(socket.AF_INET, socket.SOCK_STREAM)\n",
    "    server.bind((ip, port))\n",
    "    server.listen(5)\n",
    "    while True:\n",
    "        client, address = server.accept()\n",
    "        print(f\"Connection Estabished {address[0]}:{address[1]}\")\n",
    "        string = client.recv(1024)\n",
    "        string = string.decode(\"utf-8\")\n",
    "        string = string.upper()\n",
    "        client.send(bytes(string, \"utf-8\"))\n",
    "        client.close()"
   ]
  },
  {
   "cell_type": "code",
   "execution_count": null,
   "metadata": {},
   "outputs": [],
   "source": []
  }
 ],
 "metadata": {
  "kernelspec": {
   "display_name": "Python 3",
   "language": "python",
   "name": "python3"
  }
 },
 "nbformat": 4,
 "nbformat_minor": 2
}
